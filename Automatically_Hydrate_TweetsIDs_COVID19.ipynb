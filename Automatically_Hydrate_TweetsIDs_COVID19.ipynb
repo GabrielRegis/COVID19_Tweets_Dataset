{
  "nbformat": 4,
  "nbformat_minor": 0,
  "metadata": {
    "colab": {
      "name": "Automatically_Hydrate_TweetsIDs_COVID19.ipynb",
      "provenance": [],
      "collapsed_sections": []
    },
    "kernelspec": {
      "name": "python3",
      "display_name": "Python 3"
    }
  },
  "cells": [
    {
      "cell_type": "markdown",
      "metadata": {
        "id": "xQiik2HFUtqL",
        "colab_type": "text"
      },
      "source": [
        "\n",
        "\n",
        "\n",
        "<center><b>© 2020. Content is made available under the CC-BY-NC-ND 4.0 license. Christian Lopez, lopezbec@lafayette.edu/  Malolan Vasu, vasum@lafayette.edu <b><center>"
      ]
    },
    {
      "cell_type": "markdown",
      "metadata": {
        "id": "TwMczOoPVH6e",
        "colab_type": "text"
      },
      "source": [
        "**UPDATED ON 3/29/2020**\n"
      ]
    },
    {
      "cell_type": "markdown",
      "metadata": {
        "id": "mmFBUngZaxt7",
        "colab_type": "text"
      },
      "source": [
        "<table align=\"left\">\n",
        "  <td>\n",
        "    <a target=\"_blank\" href=\"https://colab.research.google.com/github/lopezbec/COVID19_Tweets_Dataset/blob/master/Automatically_Hydrate_TweetsIDs_COVID19.ipynb\"><img src=\"https://www.tensorflow.org/images/colab_logo_32px.png\" />Run in Google Colab</a>\n",
        "  </td>\n",
        "</table>"
      ]
    },
    {
      "cell_type": "markdown",
      "metadata": {
        "id": "wrI81Xn6wh0d",
        "colab_type": "text"
      },
      "source": [
        "# Notebook to automatically \"hydrate\" tweets-ID\n",
        "\n",
        "This notebook will allow you to automatically hydrate the tweets-ID from our [COVID19_Tweets_dataset GitHub repository](https://github.com/lopezbec/COVID19_Tweets_Dataset).\n",
        "\n",
        "\n",
        "You can run this notebook directly on the cloud using Google Colab [(see how to tutorials)]( https://colab.research.google.com/notebooks/welcome.ipynb#scrollTo=xitplqMNk_Hc) and Google Drive.\n",
        "\n",
        "In order to hydrate the tweet-IDs using [TWARC](https://github.com/DocNow/twarc) you need to create a [Twitter Developer Account]( https://developer.twitter.com/en/apply-for-access).\n"
      ]
    },
    {
      "cell_type": "markdown",
      "metadata": {
        "id": "G-Zr5kB6wknZ",
        "colab_type": "text"
      },
      "source": [
        "### Mount Drive"
      ]
    },
    {
      "cell_type": "markdown",
      "metadata": {
        "id": "dHzFzMoOV0tu",
        "colab_type": "text"
      },
      "source": [
        "The code will clone the repository and place it in your Google drive. Here you need to type where in your Google Drive you would like the information stored"
      ]
    },
    {
      "cell_type": "code",
      "metadata": {
        "id": "aeimRLrjwpRr",
        "colab_type": "code",
        "cellView": "form",
        "colab": {}
      },
      "source": [
        "#@title Set up Directory { run: \"auto\"}\n",
        "import os\n",
        "from IPython.display import clear_output\n",
        "from google.colab import drive \n",
        "from IPython.display import clear_output\n",
        "drive.mount('/content/gdrive')\n",
        "working_directory = 'My Drive/Research/form' #@param {type:\"string\"}\n",
        "wd=\"/content/gdrive/\"+working_directory\n",
        "os.chdir(wd)\n",
        "\n",
        "dirpath = os.getcwd()\n",
        "print(\"current directory is : \" + dirpath)\n"
      ],
      "execution_count": 0,
      "outputs": []
    },
    {
      "cell_type": "markdown",
      "metadata": {
        "id": "RDzd7FUKFviv",
        "colab_type": "text"
      },
      "source": [
        "### Install twarc"
      ]
    },
    {
      "cell_type": "code",
      "metadata": {
        "id": "jGvHm-ggFubK",
        "colab_type": "code",
        "colab": {}
      },
      "source": [
        "%pip install twarc\n",
        "%pip install jsonlines\n",
        "clear_output()"
      ],
      "execution_count": 0,
      "outputs": []
    },
    {
      "cell_type": "code",
      "metadata": {
        "id": "1gBPP8oJGDqM",
        "colab_type": "code",
        "colab": {}
      },
      "source": [
        "#Check if TWARC was installed correctly on the Virtual Machine\n",
        "%pip show twarc\n",
        "%pip show jsonlines"
      ],
      "execution_count": 0,
      "outputs": []
    },
    {
      "cell_type": "markdown",
      "metadata": {
        "id": "fEsz47hdFHtW",
        "colab_type": "text"
      },
      "source": [
        "### Twitter API Keys"
      ]
    },
    {
      "cell_type": "code",
      "metadata": {
        "id": "et0_5DEEFNpW",
        "colab_type": "code",
        "cellView": "form",
        "colab": {}
      },
      "source": [
        "#@title Insert API Keys here { run : \"auto\"}\n",
        "from twarc import Twarc\n",
        "\n",
        "consumer_key = \"\" #@param {type:\"string\"}\n",
        "consumer_secret = \"\" #@param {type:\"string\"}\n",
        "access_token = \"\" #@param {type:\"string\"}\n",
        "access_token_secret = \"\" #@param {type:\"string\"}\n",
        "\n",
        "t = Twarc(consumer_key, consumer_secret, access_token, access_token_secret)"
      ],
      "execution_count": 0,
      "outputs": []
    },
    {
      "cell_type": "markdown",
      "metadata": {
        "id": "OyS66qo29K_g",
        "colab_type": "text"
      },
      "source": [
        "### Clone Github Repository onto Drive"
      ]
    },
    {
      "cell_type": "markdown",
      "metadata": {
        "id": "0AwIDi53Wq9k",
        "colab_type": "text"
      },
      "source": [
        "This will clone the repository and place it in your Google drive"
      ]
    },
    {
      "cell_type": "code",
      "metadata": {
        "id": "dYcBEQ9Nv65y",
        "colab_type": "code",
        "colab": {}
      },
      "source": [
        "!if cd COVID19_Tweets_Dataset; then git pull; else git clone https://github.com/lopezbec/COVID19_Tweets_Dataset.git COVID19_Tweets_Dataset; fi"
      ],
      "execution_count": 0,
      "outputs": []
    },
    {
      "cell_type": "markdown",
      "metadata": {
        "id": "ASdYyTqI9RUG",
        "colab_type": "text"
      },
      "source": [
        "# Choose Settings"
      ]
    },
    {
      "cell_type": "markdown",
      "metadata": {
        "id": "6Fj9ydtn9aIL",
        "colab_type": "text"
      },
      "source": [
        "### Keywords"
      ]
    },
    {
      "cell_type": "code",
      "metadata": {
        "id": "qGdsBbsHxrcG",
        "colab_type": "code",
        "cellView": "form",
        "colab": {}
      },
      "source": [
        "#@title Check Keywords to Hydrate { run: \"auto\" }\n",
        "coronavirus = True #@param {type:\"boolean\"}\n",
        "virus = False #@param {type:\"boolean\"}\n",
        "covid = False #@param {type:\"boolean\"}\n",
        "ncov19 = False #@param {type:\"boolean\"}\n",
        "ncov2019 = False #@param {type:\"boolean\"}\n",
        "keyword_dict = {\"coronavirus\": coronavirus, \"virus\": virus, \"covid\": covid, \"ncov19\": ncov19, \"ncov2019\": ncov2019}"
      ],
      "execution_count": 0,
      "outputs": []
    },
    {
      "cell_type": "markdown",
      "metadata": {
        "id": "sSNFUOZN952G",
        "colab_type": "text"
      },
      "source": [
        "### Get Number of Tweets by Dates"
      ]
    },
    {
      "cell_type": "markdown",
      "metadata": {
        "id": "6u1DI1_oX6TV",
        "colab_type": "text"
      },
      "source": [
        "If you are running this in Google Colab we recommend starting with a range of just 1 day, do to the Google Colab 12hr limit and Twitter API limit. "
      ]
    },
    {
      "cell_type": "code",
      "metadata": {
        "id": "c-UwuBDZ-xW1",
        "colab_type": "code",
        "cellView": "form",
        "colab": {}
      },
      "source": [
        "#@title Enter range of dates to Hydrate { run: \"auto\" }\n",
        "start_date = '2020-01-22' #@param {type:\"date\"}\n",
        "end_date = '2020-01-23' #@param {type:\"date\"}\n",
        "\n",
        "\n",
        "import datetime as dt\n",
        "files = []\n",
        "covid_loc = \"COVID19_Tweets_Dataset\"\n",
        "for folder in os.listdir(covid_loc):\n",
        "    foldername = os.fsdecode(folder)\n",
        "    if keyword_dict.get(foldername.split()[0].lower()) == True:\n",
        "        folderpath = os.path.join(covid_loc, foldername)\n",
        "        for file in os.listdir(folderpath):\n",
        "            filename = os.fsdecode(file)\n",
        "            date = filename[filename.index(\"_\")+1:filename.index(\".\")]\n",
        "            if (dt.datetime.strptime(start_date, \"%Y-%m-%d\").date() \n",
        "            <= dt.datetime.strptime(date, '%Y_%m_%d').date()\n",
        "             <= dt.datetime.strptime(end_date, \"%Y-%m-%d\").date()):\n",
        "                files.append(os.path.join(folderpath, filename))\n",
        "ids = set()\n",
        "for filename in files:\n",
        "    with open(filename) as f:\n",
        "        for i in f.readline().strip('][').replace(\" \", \"\").split(\",\"):\n",
        "            ids.add(i) \n",
        "print(round((len(ids)/1000000), 3), \"million unique tweets.\")"
      ],
      "execution_count": 0,
      "outputs": []
    },
    {
      "cell_type": "markdown",
      "metadata": {
        "id": "-BDEuBH7LPTn",
        "colab_type": "text"
      },
      "source": [
        "### Save configuration into a file"
      ]
    },
    {
      "cell_type": "code",
      "metadata": {
        "id": "y4EfPTrnLO0c",
        "colab_type": "code",
        "cellView": "form",
        "colab": {}
      },
      "source": [
        "#@title Enter ID output file {run: \"auto\"}\n",
        "final_tweet_ids_filename = \"final_ids.txt\" #@param {type: \"string\"}\n",
        "with open(final_tweet_ids_filename, \"w+\") as f:\n",
        "    for id in ids:\n",
        "        f.write('%s\\n' % id)"
      ],
      "execution_count": 0,
      "outputs": []
    },
    {
      "cell_type": "markdown",
      "metadata": {
        "id": "NxFa0jOTKbBw",
        "colab_type": "text"
      },
      "source": [
        "# Hydrate"
      ]
    },
    {
      "cell_type": "markdown",
      "metadata": {
        "id": "kBBH-a4WK1JM",
        "colab_type": "text"
      },
      "source": [
        "### Set up output file"
      ]
    },
    {
      "cell_type": "code",
      "metadata": {
        "id": "9ATxyEfSLBK1",
        "colab_type": "code",
        "cellView": "form",
        "colab": {}
      },
      "source": [
        "#@title Set up Directory { run: \"auto\"}\n",
        "final_tweet_ids_filename = \"final_ids.txt\" #@param {type: \"string\"}\n",
        "output_filename = \"output.csv\" #@param {type: \"string\"}"
      ],
      "execution_count": 0,
      "outputs": []
    },
    {
      "cell_type": "markdown",
      "metadata": {
        "id": "QG9cS-aoW0Wy",
        "colab_type": "text"
      },
      "source": [
        "The time for this code will depend on how many tweets you want to “hydrate”. Also, be advise of the Tweet API limit, the code will “go to sleep” once the limit is reach and automatically continue. \n",
        "You can leave this code running in Google Colab for a max of 12hrs. \n"
      ]
    },
    {
      "cell_type": "code",
      "metadata": {
        "colab_type": "code",
        "id": "DFwYd7m58WR3",
        "colab": {}
      },
      "source": [
        "import jsonlines, json\n",
        "output_json_filename = output_filename[:output_filename.index(\".\")] + \".txt\"\n",
        "ids = []\n",
        "with open(final_tweet_ids_filename, \"r\") as ids_file:\n",
        "    ids = ids_file.read().split()\n",
        "hydrated_tweets = []\n",
        "ids_to_hydrate = set(ids)\n",
        "if os.path.isfile(output_json_filename):\n",
        "    with jsonlines.open(output_json_filename, \"r\") as reader:\n",
        "        for i in reader.iter(type=dict, skip_invalid=True):\n",
        "            hydrated_tweets.append(i)\n",
        "            ids_to_hydrate.remove(i[\"id_str\"])\n",
        "print(\"Total IDs: \" + str(len(ids)) + \", IDs to hydrate: \" + str(len(ids_to_hydrate)))\n",
        "print(\"Hydrated: \" + str(len(hydrated_tweets)))\n",
        "\n",
        "count = len(hydrated_tweets)\n",
        "start_index = count;\n",
        "num_save  = 1000\n",
        "\n",
        "for tweet in t.hydrate(ids_to_hydrate):\n",
        "    hydrated_tweets.append(tweet)\n",
        "    count += 1\n",
        "    if (count % num_save) == 0:\n",
        "        with jsonlines.open(output_json_filename, \"a\") as writer:\n",
        "            print(\"Started IO\")\n",
        "            for hydrated_tweet in hydrated_tweets[start_index:]:\n",
        "                writer.write(hydrated_tweet)\n",
        "            print(\"Finished IO\")\n",
        "        print(\"Saved \" + str(count) + \" hydrated tweets.\")\n",
        "        start_index = count\n",
        "if count != start_index:\n",
        "    print(\"Here with start_index\", start_index)\n",
        "    with jsonlines.open(output_json_filename, \"a\") as writer:\n",
        "        for hydrated_tweet in hydrated_tweets[start_index:]:\n",
        "           writer.write(hydrated_tweet)   "
      ],
      "execution_count": 0,
      "outputs": []
    },
    {
      "cell_type": "markdown",
      "metadata": {
        "id": "X6O-KWKnbcGt",
        "colab_type": "text"
      },
      "source": [
        "Conver data into CSV file"
      ]
    },
    {
      "cell_type": "code",
      "metadata": {
        "id": "0x68cvh5AJCD",
        "colab_type": "code",
        "colab": {}
      },
      "source": [
        "# Convert jsonl to csv\n",
        "import csv, jsonlines\n",
        "output_json_filename = output_filename[:output_filename.index(\".\")] + \".txt\"\n",
        "keyset = [\"created_at\", \"id\", \"id_str\", \"full_text\", \"source\", \"truncated\", \"in_reply_to_status_id\",\n",
        "          \"in_reply_to_status_id_str\", \"in_reply_to_user_id\", \"in_reply_to_user_id_str\", \n",
        "          \"in_reply_to_screen_name\", \"user\", \"coordinates\", \"place\", \"quoted_status_id\",\n",
        "          \"quoted_status_id_str\", \"is_quote_status\", \"quoted_status\", \"retweeted_status\", \n",
        "          \"quote_count\", \"reply_count\", \"retweet_count\", \"favorite_count\", \"entities\", \n",
        "          \"extended_entities\", \"favorited\", \"retweeted\", \"possibly_sensitive\", \"filter_level\", \n",
        "          \"lang\", \"matching_rules\", \"current_user_retweet\", \"scopes\", \"withheld_copyright\", \n",
        "          \"withheld_in_countries\", \"withheld_scope\", \"geo\", \"contributors\", \"display_text_range\",\n",
        "          \"quoted_status_permalink\"]\n",
        "hydrated_tweets = []\n",
        "with jsonlines.open(output_json_filename, \"r\") as reader:\n",
        "    for i in reader.iter(type=dict, skip_invalid=True):\n",
        "        hydrated_tweets.append(i)\n",
        "with  open(output_filename, \"w+\") as output_file:\n",
        "    d = csv.DictWriter(output_file, keyset)\n",
        "    d.writeheader()\n",
        "    d.writerows(hydrated_tweets)"
      ],
      "execution_count": 0,
      "outputs": []
    }
  ]
}